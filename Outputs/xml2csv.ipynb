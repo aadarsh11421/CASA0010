{
 "cells": [
  {
   "cell_type": "code",
   "execution_count": 1,
   "id": "5f70a8d3",
   "metadata": {},
   "outputs": [],
   "source": [
    "import xml.etree.ElementTree as ET\n",
    "import csv\n",
    "import os"
   ]
  },
  {
   "cell_type": "code",
   "execution_count": 2,
   "id": "c91e49b3",
   "metadata": {},
   "outputs": [],
   "source": [
    "def convert_xml_to_csv(xml_file, csv_file, element_name):\n",
    "    \"\"\"\n",
    "    Converts a SUMO XML output file to a CSV file, handling nested and inconsistent elements.\n",
    "\n",
    "    Args:\n",
    "        xml_file (str): The path to the input XML file.\n",
    "        csv_file (str): The path to the output CSV file.\n",
    "        element_name (str): The name of the XML elements to process (e.g., 'tripinfo', 'step', 'edge').\n",
    "    \"\"\"\n",
    "    try:\n",
    "        # Check if the XML file exists\n",
    "        if not os.path.exists(xml_file):\n",
    "            print(f\"Error: The file '{xml_file}' was not found.\")\n",
    "            return\n",
    "\n",
    "        # Parse the XML file\n",
    "        tree = ET.parse(xml_file)\n",
    "        root = tree.getroot()\n",
    "\n",
    "        # Use an XPath expression to find all elements with the given tag, regardless of their depth.\n",
    "        elements_to_process = root.findall(f'.//{element_name}')\n",
    "\n",
    "        # Check if any elements were found\n",
    "        if not elements_to_process:\n",
    "            print(f\"No elements with tag '{element_name}' found in '{xml_file}'.\")\n",
    "            return\n",
    "\n",
    "        # --- MODIFICATION START ---\n",
    "        # Collect all unique attribute keys from all elements to create a comprehensive header list.\n",
    "        # This handles cases where elements have different sets of attributes.\n",
    "        all_headers = set()\n",
    "        for element in elements_to_process:\n",
    "            all_headers.update(element.attrib.keys())\n",
    "        headers = sorted(list(all_headers)) # Sort for consistent column order\n",
    "        # --- MODIFICATION END ---\n",
    "\n",
    "        # Open the CSV file for writing\n",
    "        with open(csv_file, 'w', newline='') as csvfile:\n",
    "            # Use the comprehensive list of headers\n",
    "            writer = csv.DictWriter(csvfile, fieldnames=headers)\n",
    "\n",
    "            # Write the header row\n",
    "            writer.writeheader()\n",
    "\n",
    "            # Write the data rows\n",
    "            for element in elements_to_process:\n",
    "                writer.writerow(element.attrib)\n",
    "\n",
    "        print(f\"Successfully converted '{xml_file}' to '{csv_file}'\")\n",
    "\n",
    "    except ET.ParseError:\n",
    "        print(f\"Error: Failed to parse '{xml_file}'. Make sure it is a valid XML file.\")\n",
    "    except Exception as e:\n",
    "        print(f\"An unexpected error occurred: {e}\")"
   ]
  },
  {
   "cell_type": "code",
   "execution_count": 12,
   "id": "d410912e",
   "metadata": {},
   "outputs": [
    {
     "name": "stdout",
     "output_type": "stream",
     "text": [
      "Successfully converted 'output_tripinfo.xml' to 'tripinfo.csv'\n",
      "Successfully converted 'output_summary.xml' to 'summary.csv'\n",
      "Successfully converted 'output_edgedata.xml' to 'edgedata.csv'\n"
     ]
    }
   ],
   "source": [
    "if __name__ == \"__main__\":\n",
    "    # Define the files to be converted\n",
    "    # Assumes the XML files are in the same directory as the script\n",
    "    files_to_convert = [\n",
    "        {'xml': 'output_tripinfo.xml', 'csv': 'tripinfo.csv', 'element': 'tripinfo'},\n",
    "        {'xml': 'output_summary.xml', 'csv': 'summary.csv', 'element': 'step'},\n",
    "        {'xml': 'output_edgedata.xml', 'csv': 'edgedata.csv', 'element': 'edge'}\n",
    "    ]\n",
    "\n",
    "    # Convert each file\n",
    "    for f in files_to_convert:\n",
    "        convert_xml_to_csv(f['xml'], f['csv'], f['element'])"
   ]
  },
  {
   "cell_type": "code",
   "execution_count": null,
   "id": "1598594b",
   "metadata": {},
   "outputs": [],
   "source": []
  }
 ],
 "metadata": {
  "kernelspec": {
   "display_name": "Python 3 (ipykernel)",
   "language": "python",
   "name": "python3"
  },
  "language_info": {
   "codemirror_mode": {
    "name": "ipython",
    "version": 3
   },
   "file_extension": ".py",
   "mimetype": "text/x-python",
   "name": "python",
   "nbconvert_exporter": "python",
   "pygments_lexer": "ipython3",
   "version": "3.12.3"
  }
 },
 "nbformat": 4,
 "nbformat_minor": 5
}
